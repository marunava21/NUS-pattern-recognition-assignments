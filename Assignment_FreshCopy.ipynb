{
 "cells": [
  {
   "cell_type": "markdown",
   "id": "c8f3c561",
   "metadata": {},
   "source": [
    "<font size=\"5\">Importing Libraries</font>"
   ]
  },
  {
   "cell_type": "code",
   "execution_count": 1,
   "id": "f6283e5a",
   "metadata": {},
   "outputs": [],
   "source": [
    "import pandas as pd\n",
    "import numpy as np\n",
    "import scipy.io as sio\n",
    "import math\n",
    "import matplotlib.pyplot as plt\n",
    "import random\n",
    "import ray"
   ]
  },
  {
   "cell_type": "markdown",
   "id": "2d07d04a",
   "metadata": {},
   "source": [
    "<font size=\"5\">Importing Data</font>"
   ]
  },
  {
   "cell_type": "code",
   "execution_count": 2,
   "id": "9bc713c6",
   "metadata": {},
   "outputs": [],
   "source": [
    "D=sio.loadmat(\"D:\\Study_Docs\\EE5907/spamData.mat\")\n",
    "x_train_data=pd.DataFrame(D['Xtrain'])\n",
    "x_test_data=pd.DataFrame(D['Xtest'])\n",
    "y_train_data=pd.DataFrame(D['ytrain'])\n",
    "y_test_data=pd.DataFrame(D['ytest'])"
   ]
  },
  {
   "cell_type": "code",
   "execution_count": 3,
   "id": "499df673",
   "metadata": {},
   "outputs": [],
   "source": [
    "import warnings \n",
    "warnings.filterwarnings('ignore')"
   ]
  },
  {
   "cell_type": "markdown",
   "id": "6736071e",
   "metadata": {},
   "source": [
    "<font size=\"5\">Data Processing</font>"
   ]
  },
  {
   "cell_type": "markdown",
   "id": "46ffd5dd",
   "metadata": {},
   "source": [
    "Logged Transformation"
   ]
  },
  {
   "cell_type": "code",
   "execution_count": 4,
   "id": "6590b372",
   "metadata": {},
   "outputs": [],
   "source": [
    "##logarithm of real value + 0.1\n",
    "logged_data=np.log(x_train_data+0.1)###train data\n",
    "logged_test_data=np.log(x_test_data+0.1) ## test data"
   ]
  },
  {
   "cell_type": "markdown",
   "id": "c55ab86e",
   "metadata": {},
   "source": [
    "         "
   ]
  },
  {
   "cell_type": "markdown",
   "id": "3cbcb2f1",
   "metadata": {},
   "source": [
    "Binarization"
   ]
  },
  {
   "cell_type": "code",
   "execution_count": 5,
   "id": "4170c4a6",
   "metadata": {},
   "outputs": [],
   "source": [
    "binarized_data=x_train_data\n",
    "binarized_test_data=x_test_data\n",
    "\n",
    "##train data\n",
    "###if the value is more than 0.5 then that will assigned with 1, otherwise 0\n",
    "for j in range(logged_data.shape[1]):\n",
    "    for i in range(logged_data.shape[0]):\n",
    "        if(binarized_data.loc[i][j]<=0):\n",
    "            binarized_data.loc[i][j]=0\n",
    "        else:\n",
    "            binarized_data.loc[i][j]=1\n",
    "##test data\n",
    "for j in range(logged_test_data.shape[1]):\n",
    "    for i in range(logged_test_data.shape[0]):\n",
    "        if(binarized_test_data.loc[i][j]<=0):\n",
    "            binarized_test_data.loc[i][j]=0\n",
    "        else:\n",
    "            binarized_test_data.loc[i][j]=1"
   ]
  },
  {
   "cell_type": "markdown",
   "id": "e454ff0d",
   "metadata": {
    "scrolled": true
   },
   "source": [
    " "
   ]
  },
  {
   "cell_type": "markdown",
   "id": "8b7883f3",
   "metadata": {},
   "source": [
    " "
   ]
  },
  {
   "cell_type": "markdown",
   "id": "11ff25a1",
   "metadata": {},
   "source": [
    "<font size='5'>Beta-binomial Naive Bayes  "
   ]
  },
  {
   "cell_type": "markdown",
   "id": "a8e8cb4a",
   "metadata": {},
   "source": [
    "Feature Selection"
   ]
  },
  {
   "cell_type": "code",
   "execution_count": 6,
   "id": "ee069dfa",
   "metadata": {},
   "outputs": [],
   "source": [
    "spamemail_feature1=[]\n",
    "spamemail_feature0=[]\n",
    "nonspammail_feature1=[]\n",
    "nonspammail_feature0=[]\n",
    "### according naive bayes formula, we need to calculate (N1+a)/(N+a+b)\n",
    "###count4 and count6 are the \"N1\" for spam and non-spam category and when the value of the feature is 1.0\n",
    "for j in range(binarized_data.shape[1]):\n",
    "    count4=0\n",
    "    count5=0\n",
    "    count6=0\n",
    "    count7=0\n",
    "    for i in range(binarized_data.shape[0]):\n",
    "        if(y_train_data.loc[i][0]==1 and binarized_data.loc[i][j]==1.0):\n",
    "            count4+=1\n",
    "        elif(y_train_data.loc[i][0]==1 and binarized_data.loc[i][j]==0.0):\n",
    "            count5+=1\n",
    "        elif(y_train_data.loc[i][0]==0 and binarized_data.loc[i][j]==1.0):\n",
    "            count6+=1\n",
    "        elif(y_train_data.loc[i][0]==0 and binarized_data.loc[i][j]==0.0):\n",
    "            count7+=1\n",
    "    spamemail_feature1.append(count4) ### list of spam N1 for different features when feature value is 1.0\n",
    "    spamemail_feature0.append(count5)\n",
    "    nonspammail_feature1.append(count6) ### list of non-spam N1 for different features when feature value is 1.0\n",
    "    nonspammail_feature0.append(count7)"
   ]
  },
  {
   "cell_type": "code",
   "execution_count": 486,
   "id": "1cb557a7",
   "metadata": {
    "scrolled": true
   },
   "outputs": [],
   "source": [
    "# spamemail_feature1"
   ]
  },
  {
   "cell_type": "markdown",
   "id": "a5d58f60",
   "metadata": {
    "scrolled": true
   },
   "source": [
    "            "
   ]
  },
  {
   "cell_type": "markdown",
   "id": "3ea778a8",
   "metadata": {
    "scrolled": false
   },
   "source": [
    "<font size=\"5\">prior Probability</font>         "
   ]
  },
  {
   "cell_type": "code",
   "execution_count": 7,
   "id": "ed75eb55",
   "metadata": {},
   "outputs": [],
   "source": [
    "total_spamemails=y_train_data[y_train_data==1].count()[0] ### the true number of spam emails\n",
    "total_nonspamemails=y_train_data[y_train_data==0].count()[0]  ### true number of non-spam emails\n",
    "total_emails=y_train_data.shape[0]  ### total number emails we have in our training data set\n",
    "total_test_spamemails=y_test_data[y_test_data==1].count()[0] ### the true number of spam emails\n",
    "total_test_nonspamemails=y_test_data[y_test_data==0].count()[0] ### true number of non-spam emails\n",
    "total_test_emails=y_test_data.shape[0] ### total number emails we have in our test data set\n",
    "\n",
    "##ML estimate of prior\n",
    "###(total number of y_train_data belong to each class)/(total number of emails in the training set)\n",
    "lambda_ML_spam=total_spamemails/total_emails\n",
    "lambda_ML_nonspam=total_nonspamemails/total_emails\n",
    "\n",
    "##logged version of Lambda_ML\n",
    "##(total number of y_test_data belong to each class)/(total number of emails in the test set)\n",
    "lambda_ML_spam=np.log(lambda_ML_spam)\n",
    "lambda_ML_nonspam=np.log(lambda_ML_nonspam)"
   ]
  },
  {
   "cell_type": "markdown",
   "id": "e4e50484",
   "metadata": {
    "scrolled": true
   },
   "source": [
    "               "
   ]
  },
  {
   "cell_type": "markdown",
   "id": "2a2dce6d",
   "metadata": {},
   "source": [
    "           "
   ]
  },
  {
   "cell_type": "markdown",
   "id": "77273bf0",
   "metadata": {},
   "source": [
    "<font size=\"5\">Prediction on training data</font>"
   ]
  },
  {
   "cell_type": "code",
   "execution_count": 60,
   "id": "64b3df28",
   "metadata": {},
   "outputs": [],
   "source": [
    "##list of different alpha value for beta binomial model. In our case we are\n",
    "##considering a=b=alpha\n",
    "## α = {0, 0.5, 1, 1.5, 2, · · · , 100}\n",
    "i=0\n",
    "alpha=[]\n",
    "while(i!=101):\n",
    "    alpha.append(i)\n",
    "    i+=0.5"
   ]
  },
  {
   "cell_type": "code",
   "execution_count": 61,
   "id": "85089ac3",
   "metadata": {
    "scrolled": true
   },
   "outputs": [],
   "source": [
    "pdf_alpha2=pd.DataFrame(np.zeros([total_emails,len(alpha)])) ##empty dataframe for the spam emails with different alpha value\n",
    "pdf_alpha3=pd.DataFrame(np.zeros([total_emails,len(alpha)]))  ##empty dataframe for the nonspam emails with different alpha value\n",
    "for k in range(len(alpha)):\n",
    "    ##below operation is for calculating (N1+alpha)/(N+2*alpha) on spam class where feature value is 1.0\n",
    "    data=((np.multiply(binarized_data.transpose(),(pd.DataFrame(spamemail_feature1))).transpose())+alpha[k])/(total_spamemails+2*alpha[k])\n",
    "    #this prob distribution is for the feature1 of spam class\n",
    "    pdf_alpha=np.multiply(data,binarized_data)\n",
    "    ##below operation is for calculating (N1+alpha)/(N+2*alpha) on spam class where feature value is 0.0\n",
    "    data2=((np.multiply((1-binarized_data.transpose()),(pd.DataFrame(spamemail_feature0))).transpose())+alpha[k])/(total_spamemails+2*alpha[k])\n",
    "    #this prob distribution is for the feature0 of spam class\n",
    "    pdf_alpha1=np.multiply((1-binarized_data),data2)\n",
    "    ##addition of the probabilities of both feature0 and feature1 to make a complete dataframe of probability \n",
    "    pdf_spam=pdf_alpha+pdf_alpha1\n",
    "    ##summation of all the logged probabilities\n",
    "    a=np.log(pdf_spam).dot(pd.DataFrame(np.ones([binarized_data.shape[1],1])))\n",
    "    ##below operation is for calculating (N1+alpha)/(N+2*alpha) on non-spam class where feature value is 1.0\n",
    "    data1=((np.multiply((binarized_data.transpose()),(pd.DataFrame(nonspammail_feature1))).transpose())+alpha[k])/(total_nonspamemails+2*alpha[k])\n",
    "    #this prob distribution is for the feature1 of non-spam class\n",
    "    pdf_alpha=np.multiply(data1,binarized_data)\n",
    "    ##below operation is for calculating (N1+alpha)/(N+2*alpha) on non-spam class where feature value is 0.0\n",
    "    data3=((np.multiply((1-binarized_data.transpose()),(pd.DataFrame(nonspammail_feature0))).transpose())+alpha[k])/(total_nonspamemails+2*alpha[k])\n",
    "    #this prob distribution is for the feature0 of non-spam class\n",
    "    pdf_alpha1=np.multiply((1-binarized_data),data3)\n",
    "    ##addition of the probabilities of both feature0 and feature1 to make a complete dataframe of probability \n",
    "    pdf=pdf_alpha+pdf_alpha1\n",
    "    ##summation of all the logged probabilities\n",
    "    b=np.log(pdf).dot(pd.DataFrame(np.ones([binarized_data.shape[1],1])))\n",
    "    pdf_alpha2.loc[:][k]=a \n",
    "    pdf_alpha3.loc[:][k]=b\n",
    "pdf_alpha2=pdf_alpha2+lambda_ML_spam ##total spam probability = logged(prior probability) + logged(posterior)\n",
    "pdf_alpha3=pdf_alpha3+lambda_ML_nonspam ## total non-spam probability = logged(prior probability) + logged(posterior)"
   ]
  },
  {
   "cell_type": "markdown",
   "id": "01abc37b",
   "metadata": {},
   "source": [
    "                          "
   ]
  },
  {
   "cell_type": "markdown",
   "id": "be385253",
   "metadata": {
    "scrolled": false
   },
   "source": [
    "  "
   ]
  },
  {
   "cell_type": "code",
   "execution_count": 62,
   "id": "67e32f08",
   "metadata": {},
   "outputs": [],
   "source": [
    "b=pdf_alpha2.copy()\n",
    "b[pdf_alpha2>pdf_alpha3]=1\n",
    "b[pdf_alpha2<pdf_alpha3]=0\n",
    "y_train_new=pd.DataFrame(y_train_data.values*pd.DataFrame(np.ones([total_emails,len(alpha)])).values)\n",
    "wrongly_classifiedbin=pd.DataFrame(np.sum(((b!=y_train_new).astype('int')),axis=0)/total_emails*100) ## error in train data"
   ]
  },
  {
   "cell_type": "markdown",
   "id": "f5637c2a",
   "metadata": {},
   "source": [
    " "
   ]
  },
  {
   "cell_type": "markdown",
   "id": "a8df26df",
   "metadata": {},
   "source": [
    " "
   ]
  },
  {
   "cell_type": "markdown",
   "id": "5e0ddbac",
   "metadata": {},
   "source": [
    "<font size=\"5\" color=\"blue\">Prediction on test data</font>"
   ]
  },
  {
   "cell_type": "code",
   "execution_count": 63,
   "id": "5fc91e56",
   "metadata": {
    "scrolled": true
   },
   "outputs": [],
   "source": [
    "pdf_test_alpha2=pd.DataFrame(np.zeros([total_test_emails,len(alpha)]))\n",
    "pdf_test_alpha3=pd.DataFrame(np.zeros([total_test_emails,len(alpha)]))\n",
    "for k in range(len(alpha)):\n",
    "    data=((np.multiply(binarized_test_data.transpose(),(pd.DataFrame(spamemail_feature1))).transpose())+alpha[k])/(total_spamemails+2*alpha[k])\n",
    "    #this prob distribution is for he feature1 of spam class\n",
    "    pdf_test_alpha=np.multiply(data,binarized_test_data)\n",
    "    data2=((np.multiply((1-binarized_test_data.transpose()),(pd.DataFrame(spamemail_feature0))).transpose())+alpha[k])/(total_spamemails+2*alpha[k])\n",
    "    #this prob distribution is for the feature0 of spam class\n",
    "    pdf_test_alpha1=np.multiply((1-binarized_test_data),data2)\n",
    "    pdf_test_spam=pdf_test_alpha+pdf_test_alpha1\n",
    "    a=np.log(pdf_test_spam).dot(pd.DataFrame(np.ones([binarized_test_data.shape[1],1])))\n",
    "    data1=((np.multiply((binarized_test_data.transpose()),(pd.DataFrame(nonspammail_feature1))).transpose())+alpha[k])/(total_nonspamemails+2*alpha[k])\n",
    "    pdf_test_alpha=np.multiply(data1,binarized_test_data)\n",
    "    data3=((np.multiply((1-binarized_test_data.transpose()),(pd.DataFrame(nonspammail_feature0))).transpose())+alpha[k])/(total_nonspamemails+2*alpha[k])\n",
    "    #this prob distribution is for the feature0 of spam class\n",
    "    pdf_test_alpha1=np.multiply((1-binarized_test_data),(data3))\n",
    "    pdf_test=pdf_test_alpha+pdf_test_alpha1\n",
    "    b=np.log(pdf_test).dot(pd.DataFrame(np.ones([binarized_test_data.shape[1],1])))\n",
    "\n",
    "    pdf_test_alpha2.loc[:][k]=a\n",
    "    pdf_test_alpha3.loc[:][k]=b\n",
    "pdf_test_alpha2=pdf_test_alpha2+lambda_ML_spam\n",
    "pdf_test_alpha3=pdf_test_alpha3+lambda_ML_nonspam"
   ]
  },
  {
   "cell_type": "code",
   "execution_count": 64,
   "id": "8d230fea",
   "metadata": {
    "scrolled": true
   },
   "outputs": [],
   "source": [
    "a=pdf_test_alpha2.copy()##copied version of the spam probability\n",
    "a[pdf_test_alpha2>pdf_test_alpha3]=1\n",
    "a[pdf_test_alpha2<pdf_test_alpha3]=0\n",
    "y_test_new=pd.DataFrame(y_test_data.values*pd.DataFrame(np.ones([total_test_emails,len(alpha)])).values)\n",
    "wrongly_classifiedtestbin=pd.DataFrame(np.sum(((a!=y_test_new).astype('int')),axis=0)/total_test_emails*100) ## error in test data"
   ]
  },
  {
   "cell_type": "markdown",
   "id": "14ec183e",
   "metadata": {},
   "source": [
    "<font size=\"3\" color=\"blue\">Plotting the graph inbetween different alpha versus error</font>"
   ]
  },
  {
   "cell_type": "code",
   "execution_count": 65,
   "id": "c46ca327",
   "metadata": {
    "scrolled": false
   },
   "outputs": [
    {
     "data": {
      "image/png": "[encoded data removed]",
      "text/plain": [
       "<Figure size 432x288 with 1 Axes>"
      ]
     },
     "metadata": {
      "needs_background": "light"
     },
     "output_type": "display_data"
    }
   ],
   "source": [
    "# df = pd.DataFrame({'errors':[alpha], 'val':[wrongly_classified_train,wrongly_classified]})\n",
    "plt.plot(alpha,np.array(wrongly_classifiedbin), label='train error',color='tab:blue')\n",
    "plt.plot(alpha,np.array(wrongly_classifiedtestbin), label='test error',color='tab:orange')\n",
    "plt.title('train and test error vs diff alpha value')\n",
    "plt.legend()\n",
    "plt.xlabel('alpha')\n",
    "plt.ylabel('error')\n",
    "plt.show()"
   ]
  },
  {
   "cell_type": "code",
   "execution_count": null,
   "id": "4d466018",
   "metadata": {},
   "outputs": [],
   "source": []
  },
  {
   "cell_type": "code",
   "execution_count": null,
   "id": "4479ea63",
   "metadata": {},
   "outputs": [],
   "source": []
  },
  {
   "cell_type": "markdown",
   "id": "c0feacf9",
   "metadata": {},
   "source": [
    "    "
   ]
  },
  {
   "cell_type": "markdown",
   "id": "6f95f93f",
   "metadata": {},
   "source": [
    " "
   ]
  },
  {
   "cell_type": "markdown",
   "id": "dadcd336",
   "metadata": {},
   "source": [
    "  "
   ]
  },
  {
   "cell_type": "markdown",
   "id": "5097cf41",
   "metadata": {},
   "source": [
    "<font size=\"5\">Logistic Regression</font>"
   ]
  },
  {
   "cell_type": "code",
   "execution_count": 86,
   "id": "f0f4748b",
   "metadata": {},
   "outputs": [],
   "source": [
    "m=pd.DataFrame(np.ones([total_emails,1]))\n",
    "n=pd.concat([m,logged_data],axis=1,ignore_index=True) ##introducing the bias column in the dataset\n",
    "w=pd.DataFrame(np.zeros([logged_data.shape[1]+1,1])) ## considering the bias weight"
   ]
  },
  {
   "cell_type": "code",
   "execution_count": 87,
   "id": "7d3ffe20",
   "metadata": {},
   "outputs": [],
   "source": [
    "m_test=pd.DataFrame(np.ones([total_test_emails,1])) \n",
    "n_test=pd.concat([m_test,logged_test_data],axis=1,ignore_index=True) ##introducing the bias column in the test dataset"
   ]
  },
  {
   "cell_type": "markdown",
   "id": "2da4b0e0",
   "metadata": {},
   "source": [
    "   "
   ]
  },
  {
   "cell_type": "code",
   "execution_count": 88,
   "id": "722b6c5e",
   "metadata": {},
   "outputs": [],
   "source": [
    "##LIST OF DIFFERENT LAMBDA VALUES λ = {1, 2, · · · , 9, 10, 15, 20, · · · , 95, 100}\n",
    "lam=[]\n",
    "for i in range(1,10):\n",
    "    lam.append(i)\n",
    "for j in range(10,101,5):\n",
    "    lam.append(j)"
   ]
  },
  {
   "cell_type": "markdown",
   "id": "cb84dce6",
   "metadata": {
    "scrolled": true
   },
   "source": [
    "train prediction"
   ]
  },
  {
   "cell_type": "code",
   "execution_count": 90,
   "id": "fdacd6c4",
   "metadata": {
    "scrolled": true
   },
   "outputs": [],
   "source": [
    "y_pred_lam=pd.DataFrame(np.zeros([total_emails,len(lam)]))\n",
    "Nll=pd.DataFrame(np.zeros([1,len(lam)]))\n",
    "w_con=pd.DataFrame(np.zeros([n.shape[1],len(lam)]))\n",
    "for k in range(len(lam)):\n",
    "    Neglog_new=0\n",
    "    Neglog_prev=1\n",
    "    while(Neglog_prev!=Neglog_new): ## untill negative logarithimic value converges or becomes stable\n",
    "        Neglog_prev=Neglog_new ## the newly calculated nll value will be assigned to the previous nll value\n",
    "        y_pred=1/(1+np.exp(-(n*w.transpose().values).dot(np.ones([58,1])))) ## sigmoid function\n",
    "        \n",
    "        Neglog_reg=np.sum(y_train_data.multiply(np.log(y_pred))+(1-y_train_data).multiply(np.log(1-y_pred)),axis=0)+\\\n",
    "        0.5*lam[k]*(w.transpose().dot(w))  ## nll=y(log(mu))+(1-y)(log(1-mu))\n",
    "        Neglog_new=Neglog_reg.loc[0][0]\n",
    "        g=pd.DataFrame(np.dot((n.transpose()),(y_pred-y_train_data))) ## gradient calculation\n",
    "        w_g=pd.DataFrame(np.vstack((0,w.loc[1:][:]))) ##padding in first column\n",
    "        g_reg=g+lam[k]*w_g  ##regularization of gradient\n",
    "        \n",
    "        s=y_pred*(1-y_pred) ## diagonal matrix\n",
    "#         zeros=pd.DataFrame([3065,3065])\n",
    "        S=pd.DataFrame(np.diag(np.matrix(s).A1)) ##putting all the S value in the diagonals\n",
    "        \n",
    "        h=(n.transpose()).dot(S.dot(n)) ##hessian calculation \n",
    "        w_h=pd.DataFrame(np.vstack((np.zeros([1,58]),np.hstack((np.zeros([57,1]),np.eye(57))))))\n",
    "        h_reg=h+lam[k]*w_h ## regularization of hessian \n",
    "        h_inv=pd.DataFrame(np.linalg.inv(h_reg.values)) \n",
    "        \n",
    "        w=w-h_inv.dot(g_reg) ## w_new=w_old - inv(h)*g\n",
    "    w_con[:][k]=w\n",
    "    y_pred_lam[:][k]=y_pred\n",
    "    Nll[:][k]=Neglog_reg"
   ]
  },
  {
   "cell_type": "markdown",
   "id": "2f80c8c7",
   "metadata": {},
   "source": [
    " train error"
   ]
  },
  {
   "cell_type": "code",
   "execution_count": 91,
   "id": "2e49ac7f",
   "metadata": {},
   "outputs": [],
   "source": [
    "y_pred=y_pred_lam.copy()\n",
    "y_pred[y_pred>0.5]=1\n",
    "y_pred[y_pred<0.5]=0\n",
    "y_train_new=pd.DataFrame(y_train_data.values*pd.DataFrame(np.ones([total_emails,28])).values)\n",
    "wrongly_classifiedlog=np.sum(((y_pred!=y_train_new).astype('int')),axis=0)/total_emails*100 ##train error"
   ]
  },
  {
   "cell_type": "markdown",
   "id": "102475d0",
   "metadata": {},
   "source": [
    " test prediction and test error"
   ]
  },
  {
   "cell_type": "code",
   "execution_count": 92,
   "id": "8682363f",
   "metadata": {},
   "outputs": [],
   "source": [
    "y_pred_test=1/(1+np.exp(-np.dot(n_test,w_con)))\n",
    "y_predtest=pd.DataFrame(np.zeros([total_test_emails,28]))\n",
    "y_data=pd.DataFrame(y_pred_test)\n",
    "y_data[y_data>0.5]=1\n",
    "y_data[y_data<0.5]=0\n",
    "y_test_new=pd.DataFrame(y_test_data.values*pd.DataFrame(np.ones([total_test_emails,28])).values)\n",
    "wrongly_classifiedtestlog=np.sum(((y_data!=y_test_new).astype('int')),axis=0)/total_test_emails*100 ## test error"
   ]
  },
  {
   "cell_type": "markdown",
   "id": "6bcd181f",
   "metadata": {
    "scrolled": true
   },
   "source": [
    " "
   ]
  },
  {
   "cell_type": "markdown",
   "id": "dad0a03f",
   "metadata": {},
   "source": [
    "<font size=\"4\">Plotting</font>"
   ]
  },
  {
   "cell_type": "code",
   "execution_count": 93,
   "id": "06e64ba9",
   "metadata": {
    "scrolled": true
   },
   "outputs": [
    {
     "data": {
      "image/png": "[encoded data removed]",
      "text/plain": [
       "<Figure size 432x288 with 1 Axes>"
      ]
     },
     "metadata": {
      "needs_background": "light"
     },
     "output_type": "display_data"
    }
   ],
   "source": [
    "plt.plot(lam,np.array(wrongly_classifiedlog),label='train error', color='tab:blue')\n",
    "plt.plot(lam,np.array(wrongly_classifiedtestlog), label='test error', color='tab:orange')\n",
    "plt.title('train and test error vs lambda')\n",
    "plt.legend()\n",
    "plt.xlabel('lambda')\n",
    "plt.ylabel('error')\n",
    "plt.show()"
   ]
  },
  {
   "cell_type": "code",
   "execution_count": null,
   "id": "e434374a",
   "metadata": {
    "scrolled": true
   },
   "outputs": [],
   "source": []
  },
  {
   "cell_type": "code",
   "execution_count": null,
   "id": "0f1bc0fe",
   "metadata": {},
   "outputs": [],
   "source": []
  },
  {
   "cell_type": "markdown",
   "id": "faf06e26",
   "metadata": {},
   "source": [
    "<font size=\"5\">Gaussian</font>"
   ]
  },
  {
   "cell_type": "code",
   "execution_count": 77,
   "id": "ae194668",
   "metadata": {},
   "outputs": [],
   "source": [
    "###Data processing and estimation of Mean and Variance\n",
    "spam=logged_data.copy()\n",
    "non_spam=logged_data.copy()\n",
    "\n",
    "## below operation is to take create two separate matrix of spam and non_spam data to \n",
    "## do further operations in matrix form only\n",
    "for i in range(logged_data.shape[0]):\n",
    "    if(y_train_data.loc[i][0]==1):\n",
    "        spam.loc[i][:]=1\n",
    "        non_spam.loc[i][:]=0\n",
    "    else:\n",
    "        spam.loc[i][:]=0\n",
    "        non_spam.loc[i][:]=1\n",
    "\n",
    "spam_data=spam.multiply(logged_data) ##all the logged spam data matrix\n",
    "non_spam_data=non_spam.multiply(logged_data) ##all the logged non_spam data matrix\n",
    "ones=np.ones([total_emails,1])\n",
    "##calculation of mean for each feature on spam matrix\n",
    "mean_spam=(spam_data.transpose().dot(ones))/total_spamemails \n",
    "##calculation of mean for each feature on nonspam matrix\n",
    "mean_nonspam=(non_spam_data.transpose().dot(ones))/total_nonspamemails \n",
    "#calculation of variance for each feature on spam matrix\n",
    "var_spam=(((spam_data.subtract(np.multiply(spam,(pd.DataFrame(np.ones([57,3065]))*mean_spam.values).transpose())))**2).transpose().dot(ones))/total_spamemails\n",
    "#calculation of variance for each feature on non-spam matrix\n",
    "var_nonspam=(((non_spam_data.subtract(np.multiply(non_spam,(pd.DataFrame(np.ones([57,3065]))*mean_nonspam.values).transpose())))**2).transpose().dot(ones))/total_nonspamemails"
   ]
  },
  {
   "cell_type": "markdown",
   "id": "6efc4ff6",
   "metadata": {},
   "source": [
    "          "
   ]
  },
  {
   "cell_type": "markdown",
   "id": "d72cae7c",
   "metadata": {},
   "source": [
    "test prediction"
   ]
  },
  {
   "cell_type": "code",
   "execution_count": 78,
   "id": "293fe0a1",
   "metadata": {
    "scrolled": false
   },
   "outputs": [],
   "source": [
    "##calculating probability of getting spam class on training data\n",
    "const_spam=1/np.multiply(math.sqrt(2*math.pi),var_spam**0.5)\n",
    "\n",
    "pdf_spam=np.log((np.exp(((logged_data.subtract((pd.DataFrame(np.ones([57,3065]))*mean_spam.values).transpose()))**2)*\n",
    "                   (-0.5)/(pd.DataFrame(np.ones([57,3065]))*var_spam.values).transpose())*\n",
    "            (pd.DataFrame(np.ones([57,3065]))*const_spam.values).transpose()))\n",
    "total_pdf_spam=pdf_spam.dot(pd.DataFrame(np.ones([57,1])))+lambda_ML_spam\n",
    "## calculating probability of getting non-spam class on training data\n",
    "const_nonspam=1/np.multiply(math.sqrt(2*math.pi),var_nonspam**0.5)\n",
    "pdf_nonspam=np.log((np.exp(((logged_data.subtract((pd.DataFrame(np.ones([57,3065]))*mean_nonspam.values).transpose()))**2)*\n",
    "                   (-0.5)/(pd.DataFrame(np.ones([57,3065]))*var_nonspam.values).transpose())*\n",
    "            (pd.DataFrame(np.ones([57,3065]))*const_nonspam.values).transpose()))\n",
    "total_pdf_nonspam=pdf_nonspam.dot(pd.DataFrame(np.ones([57,1])))+lambda_ML_nonspam"
   ]
  },
  {
   "cell_type": "markdown",
   "id": "61bb14f6",
   "metadata": {},
   "source": [
    "test prediction"
   ]
  },
  {
   "cell_type": "code",
   "execution_count": 79,
   "id": "93020717",
   "metadata": {},
   "outputs": [],
   "source": [
    "##calculating probability of getting spam class on test data\n",
    "const_spam=1/np.multiply(math.sqrt(2*math.pi),var_spam**0.5)\n",
    "pdf_spamtest=np.log((np.exp(((logged_test_data.subtract((pd.DataFrame(np.ones([57,total_test_emails]))*mean_spam.values).transpose()))**2)*\\\n",
    "                   (-0.5)/(pd.DataFrame(np.ones([57,total_test_emails]))*var_spam.values).transpose())*\\\n",
    "            (pd.DataFrame(np.ones([57,total_test_emails]))*const_spam.values).transpose()))\n",
    "totaltest_pdf_spam=pdf_spamtest.dot(pd.DataFrame(np.ones([57,1])))+lambda_ML_spam\n",
    "## calculating probability of getting non-spam class on test data\n",
    "const_nonspam=1/np.multiply(math.sqrt(2*math.pi),var_nonspam**0.5)\n",
    "pdf_nonspamtest=np.log((np.exp(((logged_test_data.subtract((pd.DataFrame(np.ones([57,total_test_emails]))*mean_nonspam.values).transpose()))**2)*\n",
    "                   (-0.5)/(pd.DataFrame(np.ones([57,total_test_emails]))*var_nonspam.values).transpose())*\n",
    "            (pd.DataFrame(np.ones([57,total_test_emails]))*const_nonspam.values).transpose()))\n",
    "totaltest_pdf_nonspam=pdf_nonspamtest.dot(pd.DataFrame(np.ones([57,1])))+lambda_ML_nonspam"
   ]
  },
  {
   "cell_type": "markdown",
   "id": "49f5e8be",
   "metadata": {
    "scrolled": true
   },
   "source": [
    "  train error"
   ]
  },
  {
   "cell_type": "code",
   "execution_count": 80,
   "id": "9e3b5c6a",
   "metadata": {},
   "outputs": [],
   "source": [
    "arb=total_pdf_spam.copy()\n",
    "arb[total_pdf_spam>total_pdf_nonspam]=1\n",
    "arb[total_pdf_spam<total_pdf_nonspam]=0\n",
    "wrongly_classifiedgau=(np.sum(((arb!=y_train_data).astype('int')),axis=0)/total_emails*100).squeeze(0)##train error"
   ]
  },
  {
   "cell_type": "markdown",
   "id": "c6a98b5b",
   "metadata": {
    "scrolled": true
   },
   "source": [
    "  test error"
   ]
  },
  {
   "cell_type": "code",
   "execution_count": 81,
   "id": "7567ff1c",
   "metadata": {
    "scrolled": true
   },
   "outputs": [],
   "source": [
    "arb_test=totaltest_pdf_spam.copy()\n",
    "arb_test[totaltest_pdf_spam>totaltest_pdf_nonspam]=1\n",
    "arb_test[totaltest_pdf_spam<totaltest_pdf_nonspam]=0\n",
    "count_test=0\n",
    "wrongly_classifiedtestgau=(np.sum(((arb_test!=y_test_data).astype('int')),axis=0)/total_test_emails*100).squeeze(0) ##test error"
   ]
  },
  {
   "cell_type": "markdown",
   "id": "ffe1649e",
   "metadata": {
    "scrolled": false
   },
   "source": [
    "   "
   ]
  },
  {
   "cell_type": "code",
   "execution_count": 82,
   "id": "5f4fe913",
   "metadata": {
    "scrolled": false
   },
   "outputs": [
    {
     "data": {
      "image/png": "[encoded data removed]",
      "text/plain": [
       "<Figure size 432x288 with 1 Axes>"
      ]
     },
     "metadata": {
      "needs_background": "light"
     },
     "output_type": "display_data"
    }
   ],
   "source": [
    "df = pd.DataFrame({'errors':['train','test'], 'val':[wrongly_classifiedgau,wrongly_classifiedtestgau]})\n",
    "ax=df.plot.bar(x='errors',y='val')"
   ]
  },
  {
   "cell_type": "code",
   "execution_count": 84,
   "id": "de9ecb7f",
   "metadata": {},
   "outputs": [
    {
     "data": {
      "text/plain": [
       "16.015625"
      ]
     },
     "execution_count": 84,
     "metadata": {},
     "output_type": "execute_result"
    }
   ],
   "source": [
    "wrongly_classifiedtestgau"
   ]
  },
  {
   "cell_type": "markdown",
   "id": "5660f17b",
   "metadata": {
    "scrolled": true
   },
   "source": [
    "   "
   ]
  },
  {
   "cell_type": "markdown",
   "id": "e92d62f6",
   "metadata": {
    "scrolled": true
   },
   "source": [
    "   "
   ]
  },
  {
   "cell_type": "markdown",
   "id": "49b27092",
   "metadata": {},
   "source": [
    "<font size='5'>KNN"
   ]
  },
  {
   "cell_type": "code",
   "execution_count": 103,
   "id": "da3e1dfc",
   "metadata": {},
   "outputs": [],
   "source": [
    "##LIST OF DIFFERENT k VALUES k = {1, 2, · · · , 9, 10, 15, 20, · · · , 95, 100}\n",
    "k=[]\n",
    "for i in range(1,10):\n",
    "    k.append(i)\n",
    "for j in range(10,101,5):\n",
    "    k.append(j)"
   ]
  },
  {
   "cell_type": "markdown",
   "id": "05d217d1",
   "metadata": {},
   "source": [
    "  \n",
    "train prediction"
   ]
  },
  {
   "cell_type": "code",
   "execution_count": 104,
   "id": "07e369f3",
   "metadata": {},
   "outputs": [],
   "source": [
    "y_pred_train=pd.DataFrame(np.zeros([3065,28]))\n",
    "for m in range(len(k)):\n",
    "    for l in range(logged_data.shape[0]): ## prediction of class for each email\n",
    "        ## for each lth train email the distance from other emails for each feature are calculated and \n",
    "        ### the distances of each features are getting added for each email\n",
    "        value=(pd.DataFrame(np.sum((logged_data-logged_data.loc[l][:])**2,axis=1),columns=['0'])**0.5).drop([l])\n",
    "        \n",
    "        value=value.sort_values(by=['0'])##sorting the distances based on dataframe value. so the indices remain same as before\n",
    "\n",
    "        neighbors=value.head(k[m]) ## taking k nearest emails\n",
    "        a=y_train_data.loc[neighbors.index][y_train_data==0].count()[0] ## number of non-spam emails among the k nearest emails\n",
    "        b=y_train_data.loc[neighbors.index][y_train_data==1].count()[0] ## number of spam emails among the k nearest emails\n",
    "        if((a/k[m])==(b/k[m])): ## incase of a tie\n",
    "            y_pred_train.loc[l][m]=0\n",
    "        if((a/k[m])>(b/k[m])): ## incase the probability of non-spam is getter than spam\n",
    "            y_pred_train.loc[l][m]=0\n",
    "        else:\n",
    "            y_pred_train.loc[l][m]=1\n"
   ]
  },
  {
   "cell_type": "markdown",
   "id": "4531e4bd",
   "metadata": {},
   "source": [
    " "
   ]
  },
  {
   "cell_type": "markdown",
   "id": "b47fd40c",
   "metadata": {},
   "source": [
    "train error"
   ]
  },
  {
   "cell_type": "code",
   "execution_count": 105,
   "id": "2c63330e",
   "metadata": {},
   "outputs": [],
   "source": [
    "y_train_new=pd.DataFrame(y_train_data.values*pd.DataFrame(np.ones([total_emails,28])).values)\n",
    "f=y_pred_train.astype('int')\n",
    "wrongly_classifiedknn=np.sum(((f!=y_train_new).astype('int')),axis=0)/total_emails*100"
   ]
  },
  {
   "cell_type": "markdown",
   "id": "f0010336",
   "metadata": {},
   "source": [
    "  "
   ]
  },
  {
   "cell_type": "code",
   "execution_count": null,
   "id": "6f8fd659",
   "metadata": {},
   "outputs": [],
   "source": [
    "   "
   ]
  },
  {
   "cell_type": "markdown",
   "id": "e72c063d",
   "metadata": {},
   "source": [
    "   "
   ]
  },
  {
   "cell_type": "markdown",
   "id": "45c28f21",
   "metadata": {
    "scrolled": true
   },
   "source": [
    "test prediction   "
   ]
  },
  {
   "cell_type": "code",
   "execution_count": 106,
   "id": "65bdb3a4",
   "metadata": {},
   "outputs": [],
   "source": [
    "y_test_pred=pd.DataFrame(np.zeros([1536,28]))\n",
    "for m in range(len(k)):\n",
    "    for l in range(logged_test_data.shape[0]):## prediction of class for each email\n",
    "        ## for each lth test email the distance from other emails for each feature are calculated and \n",
    "        ### the distances of each features are getting added for each email\n",
    "        value=(pd.DataFrame(np.sum((logged_data-logged_test_data.loc[l][:])**2,axis=1),columns=['0'])**0.5)\n",
    "        value=value.sort_values(by=['0'])\n",
    "\n",
    "        neighbors=value.head(k[m])\n",
    "        a=y_train_data.loc[neighbors.index][y_train_data==0].count()[0]\n",
    "        b=y_train_data.loc[neighbors.index][y_train_data==1].count()[0]\n",
    "        if((a/k[m])==(b/k[m])):\n",
    "            y_test_pred.loc[l][m]=0\n",
    "        if((a/k[m])>(b/k[m])):\n",
    "            y_test_pred.loc[l][m]=0\n",
    "        else:\n",
    "            y_test_pred.loc[l][m]=1"
   ]
  },
  {
   "cell_type": "markdown",
   "id": "4f3214b3",
   "metadata": {},
   "source": [
    "test error"
   ]
  },
  {
   "cell_type": "code",
   "execution_count": 107,
   "id": "355d9097",
   "metadata": {},
   "outputs": [],
   "source": [
    "y_test_new=pd.DataFrame(y_test_data.values*pd.DataFrame(np.ones([total_test_emails,28])).values)\n",
    "f=y_test_pred.astype('int')\n",
    "wrongly_classifiedtestknn=np.sum(((f!=y_test_new).astype('int')),axis=0)/total_test_emails*100"
   ]
  },
  {
   "cell_type": "markdown",
   "id": "8cf95e59",
   "metadata": {
    "scrolled": true
   },
   "source": [
    "Plotting   "
   ]
  },
  {
   "cell_type": "code",
   "execution_count": 108,
   "id": "1e5c5f3a",
   "metadata": {
    "scrolled": false
   },
   "outputs": [
    {
     "data": {
      "image/png": "[encoded data removed]",
      "text/plain": [
       "<Figure size 432x288 with 1 Axes>"
      ]
     },
     "metadata": {
      "needs_background": "light"
     },
     "output_type": "display_data"
    }
   ],
   "source": [
    "plt.plot(k,wrongly_classifiedknn,label='train error',color='tab:blue',)\n",
    "plt.plot(k,wrongly_classifiedtestknn, label='test error',color='tab:orange')\n",
    "# plt.label('train','test')\n",
    "plt.title('train and test error vs diff k values')\n",
    "plt.legend(loc='upper left')\n",
    "plt.xlabel('K values')\n",
    "plt.ylabel('error')\n",
    "plt.show()\n"
   ]
  }
 ],
 "metadata": {
  "kernelspec": {
   "display_name": "gpu2",
   "language": "python",
   "name": "gpu2"
  },
  "language_info": {
   "codemirror_mode": {
    "name": "ipython",
    "version": 3
   },
   "file_extension": ".py",
   "mimetype": "text/x-python",
   "name": "python",
   "nbconvert_exporter": "python",
   "pygments_lexer": "ipython3",
   "version": "3.9.7"
  }
 },
 "nbformat": 4,
 "nbformat_minor": 5
}
